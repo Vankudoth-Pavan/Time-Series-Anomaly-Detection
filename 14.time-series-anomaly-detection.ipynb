{
  "cells": [
    {
      "cell_type": "code",
      "execution_count": null,
      "metadata": {
        "colab": {
          "base_uri": "https://localhost:8080/",
          "height": 306
        },
        "colab_type": "code",
        "id": "deBqv2Oh9uSo",
        "outputId": "d391072b-7c43-4e94-cb9c-e85a03c07819"
      },
      "outputs": [
        {
          "name": "stdout",
          "output_type": "stream",
          "text": [
            "Sun Nov 24 21:15:10 2019       \n",
            "+-----------------------------------------------------------------------------+\n",
            "| NVIDIA-SMI 440.33.01    Driver Version: 418.67       CUDA Version: 10.1     |\n",
            "|-------------------------------+----------------------+----------------------+\n",
            "| GPU  Name        Persistence-M| Bus-Id        Disp.A | Volatile Uncorr. ECC |\n",
            "| Fan  Temp  Perf  Pwr:Usage/Cap|         Memory-Usage | GPU-Util  Compute M. |\n",
            "|===============================+======================+======================|\n",
            "|   0  Tesla P100-PCIE...  Off  | 00000000:00:04.0 Off |                    0 |\n",
            "| N/A   46C    P0    33W / 250W |      0MiB / 16280MiB |      0%      Default |\n",
            "+-------------------------------+----------------------+----------------------+\n",
            "                                                                               \n",
            "+-----------------------------------------------------------------------------+\n",
            "| Processes:                                                       GPU Memory |\n",
            "|  GPU       PID   Type   Process name                             Usage      |\n",
            "|=============================================================================|\n",
            "|  No running processes found                                                 |\n",
            "+-----------------------------------------------------------------------------+\n"
          ]
        }
      ],
      "source": [
        "!nvidia-smi"
      ]
    },
    {
      "cell_type": "code",
      "execution_count": null,
      "metadata": {
        "colab": {
          "base_uri": "https://localhost:8080/",
          "height": 751
        },
        "colab_type": "code",
        "id": "486fA5bbmZN_",
        "outputId": "dcd1d716-c9e5-4586-8793-76d819024eb8"
      },
      "outputs": [],
      "source": [
        "!pip install gdown\n",
        "!pip install tensorflow-gpu"
      ]
    },
    {
      "cell_type": "code",
      "execution_count": null,
      "metadata": {
        "colab": {},
        "colab_type": "code",
        "id": "PbVkw3i7mg0Z"
      },
      "outputs": [],
      "source": [
        "import numpy as np\n",
        "import tensorflow as tf\n",
        "from tensorflow import keras\n",
        "import pandas as pd\n",
        "import seaborn as sns\n",
        "from pylab import rcParams\n",
        "import matplotlib.pyplot as plt\n",
        "from matplotlib import rc\n",
        "from pandas.plotting import register_matplotlib_converters\n",
        "\n",
        "%matplotlib inline\n",
        "%config InlineBackend.figure_format='retina'\n",
        "\n",
        "register_matplotlib_converters()\n",
        "sns.set(style='whitegrid', palette='muted', font_scale=1.5)\n",
        "\n",
        "rcParams['figure.figsize'] = 22, 10\n",
        "\n",
        "RANDOM_SEED = 42\n",
        "\n",
        "np.random.seed(RANDOM_SEED)\n",
        "tf.random.set_seed(RANDOM_SEED)"
      ]
    },
    {
      "cell_type": "code",
      "execution_count": null,
      "metadata": {
        "colab": {
          "base_uri": "https://localhost:8080/",
          "height": 85
        },
        "colab_type": "code",
        "id": "e3r4xtS7miF_",
        "outputId": "ac4d4219-bb31-4d6d-a60e-052d3eb45bd5"
      },
      "outputs": [
        {
          "name": "stdout",
          "output_type": "stream",
          "text": [
            "Downloading...\n",
            "From: https://drive.google.com/uc?id=10vdMg_RazoIatwrT7azKFX4P02OebU76\n",
            "To: /content/spx.csv\n",
            "\r  0% 0.00/152k [00:00<?, ?B/s]\r100% 152k/152k [00:00<00:00, 43.1MB/s]\n"
          ]
        }
      ],
      "source": [
        "!gdown --id 10vdMg_RazoIatwrT7azKFX4P02OebU76 --output spx.csv"
      ]
    },
    {
      "cell_type": "code",
      "execution_count": null,
      "metadata": {
        "colab": {},
        "colab_type": "code",
        "id": "dhcfLdSHm6p-"
      },
      "outputs": [],
      "source": [
        "df = pd.read_csv('spx.csv', parse_dates=['date'], index_col='date')"
      ]
    },
    {
      "cell_type": "code",
      "execution_count": null,
      "metadata": {
        "colab": {
          "base_uri": "https://localhost:8080/",
          "height": 235
        },
        "colab_type": "code",
        "id": "Eso-Gl24m-dJ",
        "outputId": "ab5e76fa-2055-4a07-8801-e30daad1e021"
      },
      "outputs": [
        {
          "data": {
            "text/html": [
              "<div>\n",
              "<style scoped>\n",
              "    .dataframe tbody tr th:only-of-type {\n",
              "        vertical-align: middle;\n",
              "    }\n",
              "\n",
              "    .dataframe tbody tr th {\n",
              "        vertical-align: top;\n",
              "    }\n",
              "\n",
              "    .dataframe thead th {\n",
              "        text-align: right;\n",
              "    }\n",
              "</style>\n",
              "<table border=\"1\" class=\"dataframe\">\n",
              "  <thead>\n",
              "    <tr style=\"text-align: right;\">\n",
              "      <th></th>\n",
              "      <th>close</th>\n",
              "    </tr>\n",
              "    <tr>\n",
              "      <th>date</th>\n",
              "      <th></th>\n",
              "    </tr>\n",
              "  </thead>\n",
              "  <tbody>\n",
              "    <tr>\n",
              "      <th>1986-01-02</th>\n",
              "      <td>209.59</td>\n",
              "    </tr>\n",
              "    <tr>\n",
              "      <th>1986-01-03</th>\n",
              "      <td>210.88</td>\n",
              "    </tr>\n",
              "    <tr>\n",
              "      <th>1986-01-06</th>\n",
              "      <td>210.65</td>\n",
              "    </tr>\n",
              "    <tr>\n",
              "      <th>1986-01-07</th>\n",
              "      <td>213.80</td>\n",
              "    </tr>\n",
              "    <tr>\n",
              "      <th>1986-01-08</th>\n",
              "      <td>207.97</td>\n",
              "    </tr>\n",
              "  </tbody>\n",
              "</table>\n",
              "</div>"
            ],
            "text/plain": [
              "             close\n",
              "date              \n",
              "1986-01-02  209.59\n",
              "1986-01-03  210.88\n",
              "1986-01-06  210.65\n",
              "1986-01-07  213.80\n",
              "1986-01-08  207.97"
            ]
          },
          "execution_count": 6,
          "metadata": {
            "tags": []
          },
          "output_type": "execute_result"
        }
      ],
      "source": [
        "df.head()"
      ]
    },
    {
      "cell_type": "code",
      "execution_count": null,
      "metadata": {
        "colab": {
          "base_uri": "https://localhost:8080/",
          "height": 606
        },
        "colab_type": "code",
        "id": "sGH7w4nKikFp",
        "outputId": "da85c57e-553c-4de1-e7c1-485757055106"
      },
      "outputs": [
        {
          "data": {
            "image/png": ,
            "text/plain": [
              "<Figure size 1584x720 with 1 Axes>"
            ]
          },
          "metadata": {
            "image/png": {
              "height": 589,
              "width": 1310
            },
            "tags": []
          },
          "output_type": "display_data"
        }
      ],
      "source": [
        "plt.plot(df, label='close price')\n",
        "plt.legend();"
      ]
    },
    {
      "cell_type": "code",
      "execution_count": null,
      "metadata": {
        "colab": {
          "base_uri": "https://localhost:8080/",
          "height": 34
        },
        "colab_type": "code",
        "id": "9Cz4C73TxG_Y",
        "outputId": "d00a468f-f053-4e4b-d8df-57f16c7bd778"
      },
      "outputs": [
        {
          "name": "stdout",
          "output_type": "stream",
          "text": [
            "(7782, 1) (410, 1)\n"
          ]
        }
      ],
      "source": [
        "train_size = int(len(df) * 0.95)\n",
        "test_size = len(df) - train_size\n",
        "train, test = df.iloc[0:train_size], df.iloc[train_size:len(df)]\n",
        "print(train.shape, test.shape)"
      ]
    },
    {
      "cell_type": "code",
      "execution_count": null,
      "metadata": {
        "colab": {
          "base_uri": "https://localhost:8080/",
          "height": 221
        },
        "colab_type": "code",
        "id": "hkxx7ETZ8oF8",
        "outputId": "436a7c87-f87e-4adc-e48c-a720dcf78024"
      },
      "outputs": [],
      "source": [
        "from sklearn.preprocessing import StandardScaler\n",
        "\n",
        "scaler = StandardScaler()\n",
        "scaler = scaler.fit(train[['close']])\n",
        "\n",
        "train['close'] = scaler.transform(train[['close']])\n",
        "test['close'] = scaler.transform(test[['close']])"
      ]
    },
    {
      "cell_type": "code",
      "execution_count": null,
      "metadata": {
        "colab": {},
        "colab_type": "code",
        "id": "rp89-jBZpskM"
      },
      "outputs": [],
      "source": [
        "def create_dataset(X, y, time_steps=1):\n",
        "    Xs, ys = [], []\n",
        "    for i in range(len(X) - time_steps):\n",
        "        v = X.iloc[i:(i + time_steps)].values\n",
        "        Xs.append(v)        \n",
        "        ys.append(y.iloc[i + time_steps])\n",
        "    return np.array(Xs), np.array(ys)"
      ]
    },
    {
      "cell_type": "code",
      "execution_count": null,
      "metadata": {
        "colab": {
          "base_uri": "https://localhost:8080/",
          "height": 34
        },
        "colab_type": "code",
        "id": "UFpUz7OFps8J",
        "outputId": "f318ad0d-dd2f-4dce-eecb-1f3798341033"
      },
      "outputs": [
        {
          "name": "stdout",
          "output_type": "stream",
          "text": [
            "(7752, 30, 1)\n"
          ]
        }
      ],
      "source": [
        "TIME_STEPS = 30\n",
        "\n",
        "# reshape to [samples, time_steps, n_features]\n",
        "\n",
        "X_train, y_train = create_dataset(train[['close']], train.close, TIME_STEPS)\n",
        "X_test, y_test = create_dataset(test[['close']], test.close, TIME_STEPS)\n",
        "\n",
        "print(X_train.shape)"
      ]
    },
    {
      "cell_type": "code",
      "execution_count": null,
      "metadata": {
        "colab": {},
        "colab_type": "code",
        "id": "da55zoY1qSQ0"
      },
      "outputs": [],
      "source": [
        "model = keras.Sequential()\n",
        "model.add(keras.layers.LSTM(\n",
        "    units=64, \n",
        "    input_shape=(X_train.shape[1], X_train.shape[2])\n",
        "))\n",
        "model.add(keras.layers.Dropout(rate=0.2))\n",
        "model.add(keras.layers.RepeatVector(n=X_train.shape[1]))\n",
        "model.add(keras.layers.LSTM(units=64, return_sequences=True))\n",
        "model.add(keras.layers.Dropout(rate=0.2))\n",
        "model.add(keras.layers.TimeDistributed(keras.layers.Dense(units=X_train.shape[2])))\n",
        "model.compile(loss='mae', optimizer='adam')"
      ]
    },
    {
      "cell_type": "code",
      "execution_count": null,
      "metadata": {
        "colab": {
          "base_uri": "https://localhost:8080/",
          "height": 374
        },
        "colab_type": "code",
        "id": "HhUPMxZtrFTS",
        "outputId": "ea372368-8798-49a3-a4d8-d168e110a39b"
      },
      "outputs": [
        {
          "name": "stdout",
          "output_type": "stream",
          "text": [
            "Train on 6976 samples, validate on 776 samples\n",
            "Epoch 1/10\n",
            "6976/6976 [==============================] - 7s 1ms/sample - loss: 0.1672 - val_loss: 0.1806\n",
            "Epoch 2/10\n",
            "6976/6976 [==============================] - 2s 277us/sample - loss: 0.0916 - val_loss: 0.2029\n",
            "Epoch 3/10\n",
            "6976/6976 [==============================] - 2s 278us/sample - loss: 0.0954 - val_loss: 0.1362\n",
            "Epoch 4/10\n",
            "6976/6976 [==============================] - 2s 279us/sample - loss: 0.0840 - val_loss: 0.1941\n",
            "Epoch 5/10\n",
            "6976/6976 [==============================] - 2s 261us/sample - loss: 0.0832 - val_loss: 0.1903\n",
            "Epoch 6/10\n",
            "6976/6976 [==============================] - 2s 268us/sample - loss: 0.0851 - val_loss: 0.2351\n",
            "Epoch 7/10\n",
            "6976/6976 [==============================] - 2s 257us/sample - loss: 0.0834 - val_loss: 0.1704\n",
            "Epoch 8/10\n",
            "6976/6976 [==============================] - 2s 261us/sample - loss: 0.0840 - val_loss: 0.1327\n",
            "Epoch 9/10\n",
            "6976/6976 [==============================] - 2s 261us/sample - loss: 0.0778 - val_loss: 0.1370\n",
            "Epoch 10/10\n",
            "6976/6976 [==============================] - 2s 257us/sample - loss: 0.1041 - val_loss: 0.1241\n"
          ]
        }
      ],
      "source": [
        "history = model.fit(\n",
        "    X_train, y_train,\n",
        "    epochs=10,\n",
        "    batch_size=32,\n",
        "    validation_split=0.1,\n",
        "    shuffle=False\n",
        ")"
      ]
    },
    {
      "cell_type": "code",
      "execution_count": null,
      "metadata": {
        "colab": {
          "base_uri": "https://localhost:8080/",
          "height": 601
        },
        "colab_type": "code",
        "id": "2GYE03C1TUv0",
        "outputId": "57ebc044-51c5-4c6d-8cb3-f981f21f2b64"
      },
      "outputs": [
        {
          "data": {
            "image/png": ,
            "text/plain": [
              "<Figure size 1584x720 with 1 Axes>"
            ]
          },
          "metadata": {
            "image/png": {
              "height": 584,
              "width": 1288
            },
            "tags": []
          },
          "output_type": "display_data"
        }
      ],
      "source": [
        "plt.plot(history.history['loss'], label='train')\n",
        "plt.plot(history.history['val_loss'], label='test')\n",
        "plt.legend();"
      ]
    },
    {
      "cell_type": "code",
      "execution_count": null,
      "metadata": {
        "colab": {},
        "colab_type": "code",
        "id": "DgOzzuc_xq8i"
      },
      "outputs": [],
      "source": [
        "X_train_pred = model.predict(X_train)\n",
        "\n",
        "train_mae_loss = np.mean(np.abs(X_train_pred - X_train), axis=1)"
      ]
    },
    {
      "cell_type": "code",
      "execution_count": null,
      "metadata": {
        "colab": {
          "base_uri": "https://localhost:8080/",
          "height": 601
        },
        "colab_type": "code",
        "id": "coepllErx5Il",
        "outputId": "3925ec3a-7009-46c3-b9aa-849614ec305a"
      },
      "outputs": [
        {
          "data": {
            "image/png": ,
            "text/plain": [
              "<Figure size 1584x720 with 1 Axes>"
            ]
          },
          "metadata": {
            "image/png": {
              "height": 584,
              "width": 1262
            },
            "tags": []
          },
          "output_type": "display_data"
        }
      ],
      "source": [
        "sns.distplot(train_mae_loss, bins=50, kde=True);"
      ]
    },
    {
      "cell_type": "code",
      "execution_count": null,
      "metadata": {
        "colab": {},
        "colab_type": "code",
        "id": "G0IRFw03cP2V"
      },
      "outputs": [],
      "source": [
        "X_test_pred = model.predict(X_test)\n",
        "\n",
        "test_mae_loss = np.mean(np.abs(X_test_pred - X_test), axis=1)"
      ]
    },
    {
      "cell_type": "code",
      "execution_count": null,
      "metadata": {
        "colab": {},
        "colab_type": "code",
        "id": "U-87Uma2uEg6"
      },
      "outputs": [],
      "source": [
        "THRESHOLD = 0.65\n",
        "\n",
        "test_score_df = pd.DataFrame(index=test[TIME_STEPS:].index)\n",
        "test_score_df['loss'] = test_mae_loss\n",
        "test_score_df['threshold'] = THRESHOLD\n",
        "test_score_df['anomaly'] = test_score_df.loss > test_score_df.threshold\n",
        "test_score_df['close'] = test[TIME_STEPS:].close"
      ]
    },
    {
      "cell_type": "code",
      "execution_count": null,
      "metadata": {
        "colab": {
          "base_uri": "https://localhost:8080/",
          "height": 628
        },
        "colab_type": "code",
        "id": "qWiYvGmkv_Pb",
        "outputId": "36069204-18f5-4a83-de4c-6f9a162ad6a9"
      },
      "outputs": [
        {
          "data": {
            "image/png": ,
            "text/plain": [
              "<Figure size 1584x720 with 1 Axes>"
            ]
          },
          "metadata": {
            "image/png": {
              "height": 611,
              "width": 1277
            },
            "tags": []
          },
          "output_type": "display_data"
        }
      ],
      "source": [
        "plt.plot(test_score_df.index, test_score_df.loss, label='loss')\n",
        "plt.plot(test_score_df.index, test_score_df.threshold, label='threshold')\n",
        "plt.xticks(rotation=25)\n",
        "plt.legend();"
      ]
    },
    {
      "cell_type": "code",
      "execution_count": null,
      "metadata": {
        "colab": {
          "base_uri": "https://localhost:8080/",
          "height": 235
        },
        "colab_type": "code",
        "id": "EkVxvoAt0Egc",
        "outputId": "3acf3c68-e4e1-425d-ee32-8babcdcf07e2"
      },
      "outputs": [
        {
          "data": {
            "text/html": [
              "<div>\n",
              "<style scoped>\n",
              "    .dataframe tbody tr th:only-of-type {\n",
              "        vertical-align: middle;\n",
              "    }\n",
              "\n",
              "    .dataframe tbody tr th {\n",
              "        vertical-align: top;\n",
              "    }\n",
              "\n",
              "    .dataframe thead th {\n",
              "        text-align: right;\n",
              "    }\n",
              "</style>\n",
              "<table border=\"1\" class=\"dataframe\">\n",
              "  <thead>\n",
              "    <tr style=\"text-align: right;\">\n",
              "      <th></th>\n",
              "      <th>loss</th>\n",
              "      <th>threshold</th>\n",
              "      <th>anomaly</th>\n",
              "      <th>close</th>\n",
              "    </tr>\n",
              "    <tr>\n",
              "      <th>date</th>\n",
              "      <th></th>\n",
              "      <th></th>\n",
              "      <th></th>\n",
              "      <th></th>\n",
              "    </tr>\n",
              "  </thead>\n",
              "  <tbody>\n",
              "    <tr>\n",
              "      <th>2018-02-06</th>\n",
              "      <td>0.723123</td>\n",
              "      <td>0.65</td>\n",
              "      <td>True</td>\n",
              "      <td>3.193456</td>\n",
              "    </tr>\n",
              "    <tr>\n",
              "      <th>2018-02-07</th>\n",
              "      <td>0.744779</td>\n",
              "      <td>0.65</td>\n",
              "      <td>True</td>\n",
              "      <td>3.168136</td>\n",
              "    </tr>\n",
              "    <tr>\n",
              "      <th>2018-02-08</th>\n",
              "      <td>0.754374</td>\n",
              "      <td>0.65</td>\n",
              "      <td>True</td>\n",
              "      <td>2.979068</td>\n",
              "    </tr>\n",
              "    <tr>\n",
              "      <th>2018-02-09</th>\n",
              "      <td>0.802155</td>\n",
              "      <td>0.65</td>\n",
              "      <td>True</td>\n",
              "      <td>3.051476</td>\n",
              "    </tr>\n",
              "    <tr>\n",
              "      <th>2018-02-12</th>\n",
              "      <td>0.811910</td>\n",
              "      <td>0.65</td>\n",
              "      <td>True</td>\n",
              "      <td>3.119939</td>\n",
              "    </tr>\n",
              "  </tbody>\n",
              "</table>\n",
              "</div>"
            ],
            "text/plain": [
              "                loss  threshold  anomaly     close\n",
              "date                                              \n",
              "2018-02-06  0.723123       0.65     True  3.193456\n",
              "2018-02-07  0.744779       0.65     True  3.168136\n",
              "2018-02-08  0.754374       0.65     True  2.979068\n",
              "2018-02-09  0.802155       0.65     True  3.051476\n",
              "2018-02-12  0.811910       0.65     True  3.119939"
            ]
          },
          "execution_count": 28,
          "metadata": {
            "tags": []
          },
          "output_type": "execute_result"
        }
      ],
      "source": [
        "anomalies = test_score_df[test_score_df.anomaly == True]\n",
        "anomalies.head()"
      ]
    },
    {
      "cell_type": "code",
      "execution_count": null,
      "metadata": {
        "colab": {
          "base_uri": "https://localhost:8080/",
          "height": 652
        },
        "colab_type": "code",
        "id": "b9pidLApzimf",
        "outputId": "f3428532-ac42-4936-e550-a6bc22383e9f"
      },
      "outputs": [
        {
          "data": {
            "image/png": ,
            "text/plain": [
              "<Figure size 1584x720 with 1 Axes>"
            ]
          },
          "metadata": {
            "image/png": {
              "height": 635,
              "width": 1293
            },
            "tags": []
          },
          "output_type": "display_data"
        }
      ],
      "source": [
        "plt.plot(\n",
        "  test[TIME_STEPS:].index, \n",
        "  scaler.inverse_transform(test[TIME_STEPS:].close), \n",
        "  label='close price'\n",
        ");\n",
        "\n",
        "sns.scatterplot(\n",
        "  anomalies.index,\n",
        "  scaler.inverse_transform(anomalies.close),\n",
        "  color=sns.color_palette()[3],\n",
        "  s=52,\n",
        "  label='anomaly'\n",
        ")\n",
        "plt.xticks(rotation=25)\n",
        "plt.legend();"
      ]
    }
  ],
  "metadata": {
    "accelerator": "GPU",
    "colab": {
      "collapsed_sections": [],
      "name": "11.3.anomaly-detection.ipynb",
      "provenance": []
    },
    "kernelspec": {
      "display_name": "Python 3",
      "name": "python3"
    }
  },
  "nbformat": 4,
  "nbformat_minor": 0
}